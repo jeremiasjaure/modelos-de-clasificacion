{
  "nbformat": 4,
  "nbformat_minor": 0,
  "metadata": {
    "colab": {
      "provenance": [],
      "include_colab_link": true
    },
    "kernelspec": {
      "name": "python3",
      "display_name": "Python 3"
    },
    "language_info": {
      "name": "python"
    }
  },
  "cells": [
    {
      "cell_type": "markdown",
      "metadata": {
        "id": "view-in-github",
        "colab_type": "text"
      },
      "source": [
        "<a href=\"https://colab.research.google.com/github/jeremiasjaure/modelos-de-clasificacion/blob/main/CcsDatosEconm%C3%ADa_Examen.ipynb\" target=\"_parent\"><img src=\"https://colab.research.google.com/assets/colab-badge.svg\" alt=\"Open In Colab\"/></a>"
      ]
    },
    {
      "cell_type": "markdown",
      "source": [
        "A continuación usaremos el set de dato Adult, con información que busca predecir si el ingreso anual de un individuo superan los US$50000 al año basándose en los datos del censo.\n",
        "\n",
        "Los datos se encuentran disponible en el repositorio de [UC Irvine](https://archive.ics.uci.edu/dataset/2/adult),quienes disponen de una bilioteca para importar datos con Python.\n",
        "\n",
        "A continuación procederemos a importar dichos datos."
      ],
      "metadata": {
        "id": "h7bSTDZbR4QP"
      }
    },
    {
      "cell_type": "markdown",
      "source": [
        "```python\n",
        "# Instalar biblioteca\n",
        "%pip install ucimlrepo\n",
        "\n",
        "# Importar biblioteca\n",
        "from ucimlrepo import fetch_ucirepo\n",
        "import pandas as pd\n",
        "\n",
        "# fetch dataset\n",
        "adult = fetch_ucirepo(id=2)\n",
        "  \n",
        "# Guarda como dataframe\n",
        "df = adult.data.original\n",
        "```"
      ],
      "metadata": {
        "id": "DIcMI98gZVjg"
      }
    },
    {
      "cell_type": "markdown",
      "source": [
        "## Parte 1: Análisis Exploratorio de los Datos\n",
        "\n",
        "Para esta primera parte se pide realizar algunas tareas básicas:\n",
        "\n",
        "\n",
        "- Importar y explorar el dataset\n",
        "- Detección de valores faltante\n",
        "- Limpieza de datos\n",
        "- Análisis univariado: Puedes realizar gráficos como histogramas y gráficos de barras para visualizar la distribución de los datos.\n",
        "- Análisis bivariado: Utiliza gráficos como boxplots para comparar la distribución de variables relevantes en relación a la variable target\n",
        "- Correlaciones y visualización multivariada\n",
        "\n",
        "Recuerda que cada etapa debe contar con una introducción a la tarea a realizar junto con una Síntesis de hallazgos\n",
        "\n",
        "**Una vez finalizada esta parte debe generar un commit a la carpeta de GitHub que ha creado para esta evaluación**"
      ],
      "metadata": {
        "id": "1rD-v2XlTvjT"
      }
    },
    {
      "cell_type": "markdown",
      "source": [
        "## Parte 2: Modelo de Clasificación\n",
        "\n",
        "Una vez que el conjunto de datos ha sido limpiado y preprocesado correctamente, el siguiente paso consiste en construir y evaluar modelos de clasificación binaria, cuyo objetivo es predecir si una persona gana más de US$50.000 anuales.\n",
        "\n",
        "Para ello, utilice la biblioteca Lazypredict, la cual permite realizar una comparación exploratoria de múltiples modelos de clasificación estándar sin necesidad de definir previamente sus hiperparámetros. Esta herramienta resulta especialmente útil como punto de partida para identificar qué algoritmos presentan un mejor desempeño inicial sobre un conjunto de datos determinado.\n",
        "\n",
        "Divida el dataset en un 80% para entrenamiento y un 20% para prueba, asegurándose de que todas las variables estén correctamente codificadas y preparadas para el análisis.\n",
        "\n",
        "Además de ejecutar los modelos con Lazypredict, deberá:\n",
        "\n",
        "- Comentar las ventajas y limitaciones de esta biblioteca en el contexto de una primera evaluación comparativa.\n",
        "\n",
        "- Analizar los resultados obtenidos, identificando los modelos con mejor y peor desempeño.\n",
        "\n",
        "**Una vez terminada esta parte debe actualizar su repositorio en GitHub**"
      ],
      "metadata": {
        "id": "gmIhMswyWzY4"
      }
    }
  ]
}